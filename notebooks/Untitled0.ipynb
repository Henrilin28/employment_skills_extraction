{
 "metadata": {
  "name": "",
  "signature": "sha256:2963aaf006229dc4890c30d35d9b194ae149dcfb9f9bb77a17f5182a3793eeb2"
 },
 "nbformat": 3,
 "nbformat_minor": 0,
 "worksheets": [
  {
   "cells": [
    {
     "cell_type": "code",
     "collapsed": false,
     "input": [
      "import pandas as pd"
     ],
     "language": "python",
     "metadata": {},
     "outputs": [],
     "prompt_number": 84
    },
    {
     "cell_type": "code",
     "collapsed": false,
     "input": [
      "skills = pd.read_csv('candidate_features_cluster.tsv',sep='\\t')"
     ],
     "language": "python",
     "metadata": {},
     "outputs": [],
     "prompt_number": 85
    },
    {
     "cell_type": "code",
     "collapsed": false,
     "input": [
      "skills.keys()"
     ],
     "language": "python",
     "metadata": {},
     "outputs": [
      {
       "metadata": {},
       "output_type": "pyout",
       "prompt_number": 86,
       "text": [
        "Index([u'feature', u'cluster', u'type'], dtype='object')"
       ]
      }
     ],
     "prompt_number": 86
    },
    {
     "cell_type": "code",
     "collapsed": false,
     "input": [
      "skills.groupby('type').count()\n"
     ],
     "language": "python",
     "metadata": {},
     "outputs": [
      {
       "html": [
        "<div style=\"max-height:1000px;max-width:1500px;overflow:auto;\">\n",
        "<table border=\"1\" class=\"dataframe\">\n",
        "  <thead>\n",
        "    <tr style=\"text-align: right;\">\n",
        "      <th></th>\n",
        "      <th>feature</th>\n",
        "      <th>cluster</th>\n",
        "    </tr>\n",
        "    <tr>\n",
        "      <th>type</th>\n",
        "      <th></th>\n",
        "      <th></th>\n",
        "    </tr>\n",
        "  </thead>\n",
        "  <tbody>\n",
        "    <tr>\n",
        "      <th>accountable and accounts</th>\n",
        "      <td>  404</td>\n",
        "      <td>  404</td>\n",
        "    </tr>\n",
        "    <tr>\n",
        "      <th>communication</th>\n",
        "      <td>  343</td>\n",
        "      <td>  343</td>\n",
        "    </tr>\n",
        "    <tr>\n",
        "      <th>computer skills</th>\n",
        "      <td>  169</td>\n",
        "      <td>  169</td>\n",
        "    </tr>\n",
        "    <tr>\n",
        "      <th>customer service</th>\n",
        "      <td>  262</td>\n",
        "      <td>  262</td>\n",
        "    </tr>\n",
        "    <tr>\n",
        "      <th>delivery</th>\n",
        "      <td>  360</td>\n",
        "      <td>  360</td>\n",
        "    </tr>\n",
        "    <tr>\n",
        "      <th>dependable</th>\n",
        "      <td>  161</td>\n",
        "      <td>  161</td>\n",
        "    </tr>\n",
        "    <tr>\n",
        "      <th>disabled veterans &amp; minorities</th>\n",
        "      <td>  311</td>\n",
        "      <td>  311</td>\n",
        "    </tr>\n",
        "    <tr>\n",
        "      <th>drivers license</th>\n",
        "      <td>  281</td>\n",
        "      <td>  281</td>\n",
        "    </tr>\n",
        "    <tr>\n",
        "      <th>education</th>\n",
        "      <td> 2944</td>\n",
        "      <td> 2944</td>\n",
        "    </tr>\n",
        "    <tr>\n",
        "      <th>education experience</th>\n",
        "      <td>  297</td>\n",
        "      <td>  297</td>\n",
        "    </tr>\n",
        "    <tr>\n",
        "      <th>knowledge</th>\n",
        "      <td> 5199</td>\n",
        "      <td> 5199</td>\n",
        "    </tr>\n",
        "    <tr>\n",
        "      <th>license</th>\n",
        "      <td> 1070</td>\n",
        "      <td> 1070</td>\n",
        "    </tr>\n",
        "    <tr>\n",
        "      <th>merchandise</th>\n",
        "      <td>   60</td>\n",
        "      <td>   60</td>\n",
        "    </tr>\n",
        "    <tr>\n",
        "      <th>previous experience</th>\n",
        "      <td> 2931</td>\n",
        "      <td> 2931</td>\n",
        "    </tr>\n",
        "    <tr>\n",
        "      <th>required years of experience</th>\n",
        "      <td>  313</td>\n",
        "      <td>  313</td>\n",
        "    </tr>\n",
        "    <tr>\n",
        "      <th>sales experience</th>\n",
        "      <td>  305</td>\n",
        "      <td>  305</td>\n",
        "    </tr>\n",
        "    <tr>\n",
        "      <th>skills</th>\n",
        "      <td> 1844</td>\n",
        "      <td> 1844</td>\n",
        "    </tr>\n",
        "    <tr>\n",
        "      <th>tables/microsoft/cleaning</th>\n",
        "      <td>  218</td>\n",
        "      <td>  218</td>\n",
        "    </tr>\n",
        "    <tr>\n",
        "      <th>truly unknown</th>\n",
        "      <td> 7971</td>\n",
        "      <td> 7971</td>\n",
        "    </tr>\n",
        "    <tr>\n",
        "      <th>unknown</th>\n",
        "      <td> 4050</td>\n",
        "      <td> 4050</td>\n",
        "    </tr>\n",
        "    <tr>\n",
        "      <th>unknown/ability</th>\n",
        "      <td> 1266</td>\n",
        "      <td> 1266</td>\n",
        "    </tr>\n",
        "    <tr>\n",
        "      <th>unknown/able</th>\n",
        "      <td> 1807</td>\n",
        "      <td> 1807</td>\n",
        "    </tr>\n",
        "  </tbody>\n",
        "</table>\n",
        "</div>"
       ],
       "metadata": {},
       "output_type": "pyout",
       "prompt_number": 87,
       "text": [
        "                                feature  cluster\n",
        "type                                            \n",
        "accountable and accounts            404      404\n",
        "communication                       343      343\n",
        "computer skills                     169      169\n",
        "customer service                    262      262\n",
        "delivery                            360      360\n",
        "dependable                          161      161\n",
        "disabled veterans & minorities      311      311\n",
        "drivers license                     281      281\n",
        "education                          2944     2944\n",
        "education experience                297      297\n",
        "knowledge                          5199     5199\n",
        "license                            1070     1070\n",
        "merchandise                          60       60\n",
        "previous experience                2931     2931\n",
        "required years of experience        313      313\n",
        "sales experience                    305      305\n",
        "skills                             1844     1844\n",
        "tables/microsoft/cleaning           218      218\n",
        "truly unknown                      7971     7971\n",
        "unknown                            4050     4050\n",
        "unknown/ability                    1266     1266\n",
        "unknown/able                       1807     1807"
       ]
      }
     ],
     "prompt_number": 87
    },
    {
     "cell_type": "code",
     "collapsed": false,
     "input": [
      "import clustering"
     ],
     "language": "python",
     "metadata": {},
     "outputs": [],
     "prompt_number": 88
    },
    {
     "cell_type": "code",
     "collapsed": false,
     "input": [
      "skills_education = skills[skills['type'] == 'education']"
     ],
     "language": "python",
     "metadata": {},
     "outputs": [],
     "prompt_number": 89
    },
    {
     "cell_type": "code",
     "collapsed": false,
     "input": [
      "skills_education"
     ],
     "language": "python",
     "metadata": {},
     "outputs": [
      {
       "html": [
        "<div style=\"max-height:1000px;max-width:1500px;overflow:auto;\">\n",
        "<table border=\"1\" class=\"dataframe\">\n",
        "  <thead>\n",
        "    <tr style=\"text-align: right;\">\n",
        "      <th></th>\n",
        "      <th>feature</th>\n",
        "      <th>cluster</th>\n",
        "      <th>type</th>\n",
        "    </tr>\n",
        "  </thead>\n",
        "  <tbody>\n",
        "    <tr>\n",
        "      <th>21651</th>\n",
        "      <td>                      education to close</td>\n",
        "      <td> 1</td>\n",
        "      <td> education</td>\n",
        "    </tr>\n",
        "    <tr>\n",
        "      <th>21652</th>\n",
        "      <td>              education to our customers</td>\n",
        "      <td> 1</td>\n",
        "      <td> education</td>\n",
        "    </tr>\n",
        "    <tr>\n",
        "      <th>21653</th>\n",
        "      <td>                  education to close any</td>\n",
        "      <td> 1</td>\n",
        "      <td> education</td>\n",
        "    </tr>\n",
        "    <tr>\n",
        "      <th>21654</th>\n",
        "      <td>                 education to facilitate</td>\n",
        "      <td> 1</td>\n",
        "      <td> education</td>\n",
        "    </tr>\n",
        "    <tr>\n",
        "      <th>21655</th>\n",
        "      <td>      education to facilitate technology</td>\n",
        "      <td> 1</td>\n",
        "      <td> education</td>\n",
        "    </tr>\n",
        "    <tr>\n",
        "      <th>21656</th>\n",
        "      <td>                       education to meet</td>\n",
        "      <td> 1</td>\n",
        "      <td> education</td>\n",
        "    </tr>\n",
        "    <tr>\n",
        "      <th>21657</th>\n",
        "      <td>                        education to our</td>\n",
        "      <td> 1</td>\n",
        "      <td> education</td>\n",
        "    </tr>\n",
        "    <tr>\n",
        "      <th>21658</th>\n",
        "      <td>         education requirements you must</td>\n",
        "      <td> 1</td>\n",
        "      <td> education</td>\n",
        "    </tr>\n",
        "    <tr>\n",
        "      <th>21659</th>\n",
        "      <td>                 education techniques in</td>\n",
        "      <td> 1</td>\n",
        "      <td> education</td>\n",
        "    </tr>\n",
        "    <tr>\n",
        "      <th>21660</th>\n",
        "      <td>                    education techniques</td>\n",
        "      <td> 1</td>\n",
        "      <td> education</td>\n",
        "    </tr>\n",
        "    <tr>\n",
        "      <th>21661</th>\n",
        "      <td>        education technical training and</td>\n",
        "      <td> 1</td>\n",
        "      <td> education</td>\n",
        "    </tr>\n",
        "    <tr>\n",
        "      <th>21662</th>\n",
        "      <td>            education technical training</td>\n",
        "      <td> 1</td>\n",
        "      <td> education</td>\n",
        "    </tr>\n",
        "    <tr>\n",
        "      <th>21663</th>\n",
        "      <td>                 education consultant ec</td>\n",
        "      <td> 1</td>\n",
        "      <td> education</td>\n",
        "    </tr>\n",
        "    <tr>\n",
        "      <th>21664</th>\n",
        "      <td>               education preferred flair</td>\n",
        "      <td> 1</td>\n",
        "      <td> education</td>\n",
        "    </tr>\n",
        "    <tr>\n",
        "      <th>21665</th>\n",
        "      <td>             education associates degree</td>\n",
        "      <td> 1</td>\n",
        "      <td> education</td>\n",
        "    </tr>\n",
        "    <tr>\n",
        "      <th>21666</th>\n",
        "      <td>         education to meet qualification</td>\n",
        "      <td> 1</td>\n",
        "      <td> education</td>\n",
        "    </tr>\n",
        "    <tr>\n",
        "      <th>21667</th>\n",
        "      <td>               education to branch staff</td>\n",
        "      <td> 1</td>\n",
        "      <td> education</td>\n",
        "    </tr>\n",
        "    <tr>\n",
        "      <th>21668</th>\n",
        "      <td>            educational meetings and one</td>\n",
        "      <td> 1</td>\n",
        "      <td> education</td>\n",
        "    </tr>\n",
        "    <tr>\n",
        "      <th>21669</th>\n",
        "      <td>                     education to branch</td>\n",
        "      <td> 1</td>\n",
        "      <td> education</td>\n",
        "    </tr>\n",
        "    <tr>\n",
        "      <th>21670</th>\n",
        "      <td>               education preferred other</td>\n",
        "      <td> 1</td>\n",
        "      <td> education</td>\n",
        "    </tr>\n",
        "    <tr>\n",
        "      <th>21671</th>\n",
        "      <td>                education the equivalent</td>\n",
        "      <td> 1</td>\n",
        "      <td> education</td>\n",
        "    </tr>\n",
        "    <tr>\n",
        "      <th>21672</th>\n",
        "      <td>             education the equivalent to</td>\n",
        "      <td> 1</td>\n",
        "      <td> education</td>\n",
        "    </tr>\n",
        "    <tr>\n",
        "      <th>21673</th>\n",
        "      <td>                       education student</td>\n",
        "      <td> 1</td>\n",
        "      <td> education</td>\n",
        "    </tr>\n",
        "    <tr>\n",
        "      <th>21674</th>\n",
        "      <td>                   education skills high</td>\n",
        "      <td> 1</td>\n",
        "      <td> education</td>\n",
        "    </tr>\n",
        "    <tr>\n",
        "      <th>21675</th>\n",
        "      <td>            education skills high school</td>\n",
        "      <td> 1</td>\n",
        "      <td> education</td>\n",
        "    </tr>\n",
        "    <tr>\n",
        "      <th>21676</th>\n",
        "      <td>                      education snapshot</td>\n",
        "      <td> 1</td>\n",
        "      <td> education</td>\n",
        "    </tr>\n",
        "    <tr>\n",
        "      <th>21677</th>\n",
        "      <td>                      education at least</td>\n",
        "      <td> 1</td>\n",
        "      <td> education</td>\n",
        "    </tr>\n",
        "    <tr>\n",
        "      <th>21678</th>\n",
        "      <td>                  education snapshot net</td>\n",
        "      <td> 1</td>\n",
        "      <td> education</td>\n",
        "    </tr>\n",
        "    <tr>\n",
        "      <th>21679</th>\n",
        "      <td>                education student status</td>\n",
        "      <td> 1</td>\n",
        "      <td> education</td>\n",
        "    </tr>\n",
        "    <tr>\n",
        "      <th>21680</th>\n",
        "      <td>            education student status the</td>\n",
        "      <td> 1</td>\n",
        "      <td> education</td>\n",
        "    </tr>\n",
        "    <tr>\n",
        "      <th>...</th>\n",
        "      <td>...</td>\n",
        "      <td>...</td>\n",
        "      <td>...</td>\n",
        "    </tr>\n",
        "    <tr>\n",
        "      <th>24565</th>\n",
        "      <td>                and education on product</td>\n",
        "      <td> 1</td>\n",
        "      <td> education</td>\n",
        "    </tr>\n",
        "    <tr>\n",
        "      <th>24566</th>\n",
        "      <td>                        and education on</td>\n",
        "      <td> 1</td>\n",
        "      <td> education</td>\n",
        "    </tr>\n",
        "    <tr>\n",
        "      <th>24567</th>\n",
        "      <td>                    and education of the</td>\n",
        "      <td> 1</td>\n",
        "      <td> education</td>\n",
        "    </tr>\n",
        "    <tr>\n",
        "      <th>24568</th>\n",
        "      <td>                     hhd education under</td>\n",
        "      <td> 1</td>\n",
        "      <td> education</td>\n",
        "    </tr>\n",
        "    <tr>\n",
        "      <th>24569</th>\n",
        "      <td>               and education high school</td>\n",
        "      <td> 1</td>\n",
        "      <td> education</td>\n",
        "    </tr>\n",
        "    <tr>\n",
        "      <th>24570</th>\n",
        "      <td>      and education including technology</td>\n",
        "      <td> 1</td>\n",
        "      <td> education</td>\n",
        "    </tr>\n",
        "    <tr>\n",
        "      <th>24571</th>\n",
        "      <td>                    hill education is an</td>\n",
        "      <td> 1</td>\n",
        "      <td> education</td>\n",
        "    </tr>\n",
        "    <tr>\n",
        "      <th>24572</th>\n",
        "      <td>        and discounts required education</td>\n",
        "      <td> 1</td>\n",
        "      <td> education</td>\n",
        "    </tr>\n",
        "    <tr>\n",
        "      <th>24573</th>\n",
        "      <td>               and educates the customer</td>\n",
        "      <td> 1</td>\n",
        "      <td> education</td>\n",
        "    </tr>\n",
        "    <tr>\n",
        "      <th>24574</th>\n",
        "      <td>                   hill school education</td>\n",
        "      <td> 1</td>\n",
        "      <td> education</td>\n",
        "    </tr>\n",
        "    <tr>\n",
        "      <th>24575</th>\n",
        "      <td> identifies educational opportunities to</td>\n",
        "      <td> 1</td>\n",
        "      <td> education</td>\n",
        "    </tr>\n",
        "    <tr>\n",
        "      <th>24576</th>\n",
        "      <td>    identifies educational opportunities</td>\n",
        "      <td> 1</td>\n",
        "      <td> education</td>\n",
        "    </tr>\n",
        "    <tr>\n",
        "      <th>24577</th>\n",
        "      <td>                  identifies educational</td>\n",
        "      <td> 1</td>\n",
        "      <td> education</td>\n",
        "    </tr>\n",
        "    <tr>\n",
        "      <th>24578</th>\n",
        "      <td>                            and educates</td>\n",
        "      <td> 1</td>\n",
        "      <td> education</td>\n",
        "    </tr>\n",
        "    <tr>\n",
        "      <th>24579</th>\n",
        "      <td>                and educate the customer</td>\n",
        "      <td> 1</td>\n",
        "      <td> education</td>\n",
        "    </tr>\n",
        "    <tr>\n",
        "      <th>24580</th>\n",
        "      <td>                  id education hs degree</td>\n",
        "      <td> 1</td>\n",
        "      <td> education</td>\n",
        "    </tr>\n",
        "    <tr>\n",
        "      <th>24581</th>\n",
        "      <td>                         id education hs</td>\n",
        "      <td> 1</td>\n",
        "      <td> education</td>\n",
        "    </tr>\n",
        "    <tr>\n",
        "      <th>24582</th>\n",
        "      <td>                            id education</td>\n",
        "      <td> 1</td>\n",
        "      <td> education</td>\n",
        "    </tr>\n",
        "    <tr>\n",
        "      <th>24583</th>\n",
        "      <td>                        and educates the</td>\n",
        "      <td> 1</td>\n",
        "      <td> education</td>\n",
        "    </tr>\n",
        "    <tr>\n",
        "      <th>24584</th>\n",
        "      <td>                   hs education at least</td>\n",
        "      <td> 1</td>\n",
        "      <td> education</td>\n",
        "    </tr>\n",
        "    <tr>\n",
        "      <th>24585</th>\n",
        "      <td>        id 1408495 description education</td>\n",
        "      <td> 1</td>\n",
        "      <td> education</td>\n",
        "    </tr>\n",
        "    <tr>\n",
        "      <th>24586</th>\n",
        "      <td>                      id 19 education hs</td>\n",
        "      <td> 1</td>\n",
        "      <td> education</td>\n",
        "    </tr>\n",
        "    <tr>\n",
        "      <th>24587</th>\n",
        "      <td>                         and educate the</td>\n",
        "      <td> 1</td>\n",
        "      <td> education</td>\n",
        "    </tr>\n",
        "    <tr>\n",
        "      <th>24588</th>\n",
        "      <td>                 home educate our guests</td>\n",
        "      <td> 1</td>\n",
        "      <td> education</td>\n",
        "    </tr>\n",
        "    <tr>\n",
        "      <th>24589</th>\n",
        "      <td>                        home educate our</td>\n",
        "      <td> 1</td>\n",
        "      <td> education</td>\n",
        "    </tr>\n",
        "    <tr>\n",
        "      <th>24590</th>\n",
        "      <td>                     and education gs 03</td>\n",
        "      <td> 1</td>\n",
        "      <td> education</td>\n",
        "    </tr>\n",
        "    <tr>\n",
        "      <th>24591</th>\n",
        "      <td>                     and education gs 04</td>\n",
        "      <td> 1</td>\n",
        "      <td> education</td>\n",
        "    </tr>\n",
        "    <tr>\n",
        "      <th>24592</th>\n",
        "      <td>                      and education high</td>\n",
        "      <td> 1</td>\n",
        "      <td> education</td>\n",
        "    </tr>\n",
        "    <tr>\n",
        "      <th>24593</th>\n",
        "      <td>          hill school education division</td>\n",
        "      <td> 1</td>\n",
        "      <td> education</td>\n",
        "    </tr>\n",
        "    <tr>\n",
        "      <th>24594</th>\n",
        "      <td>   education and training qualifications</td>\n",
        "      <td> 1</td>\n",
        "      <td> education</td>\n",
        "    </tr>\n",
        "  </tbody>\n",
        "</table>\n",
        "<p>2944 rows \u00d7 3 columns</p>\n",
        "</div>"
       ],
       "metadata": {},
       "output_type": "pyout",
       "prompt_number": 90,
       "text": [
        "                                       feature  cluster       type\n",
        "21651                       education to close        1  education\n",
        "21652               education to our customers        1  education\n",
        "21653                   education to close any        1  education\n",
        "21654                  education to facilitate        1  education\n",
        "21655       education to facilitate technology        1  education\n",
        "21656                        education to meet        1  education\n",
        "21657                         education to our        1  education\n",
        "21658          education requirements you must        1  education\n",
        "21659                  education techniques in        1  education\n",
        "21660                     education techniques        1  education\n",
        "21661         education technical training and        1  education\n",
        "21662             education technical training        1  education\n",
        "21663                  education consultant ec        1  education\n",
        "21664                education preferred flair        1  education\n",
        "21665              education associates degree        1  education\n",
        "21666          education to meet qualification        1  education\n",
        "21667                education to branch staff        1  education\n",
        "21668             educational meetings and one        1  education\n",
        "21669                      education to branch        1  education\n",
        "21670                education preferred other        1  education\n",
        "21671                 education the equivalent        1  education\n",
        "21672              education the equivalent to        1  education\n",
        "21673                        education student        1  education\n",
        "21674                    education skills high        1  education\n",
        "21675             education skills high school        1  education\n",
        "21676                       education snapshot        1  education\n",
        "21677                       education at least        1  education\n",
        "21678                   education snapshot net        1  education\n",
        "21679                 education student status        1  education\n",
        "21680             education student status the        1  education\n",
        "...                                        ...      ...        ...\n",
        "24565                 and education on product        1  education\n",
        "24566                         and education on        1  education\n",
        "24567                     and education of the        1  education\n",
        "24568                      hhd education under        1  education\n",
        "24569                and education high school        1  education\n",
        "24570       and education including technology        1  education\n",
        "24571                     hill education is an        1  education\n",
        "24572         and discounts required education        1  education\n",
        "24573                and educates the customer        1  education\n",
        "24574                    hill school education        1  education\n",
        "24575  identifies educational opportunities to        1  education\n",
        "24576     identifies educational opportunities        1  education\n",
        "24577                   identifies educational        1  education\n",
        "24578                             and educates        1  education\n",
        "24579                 and educate the customer        1  education\n",
        "24580                   id education hs degree        1  education\n",
        "24581                          id education hs        1  education\n",
        "24582                             id education        1  education\n",
        "24583                         and educates the        1  education\n",
        "24584                    hs education at least        1  education\n",
        "24585         id 1408495 description education        1  education\n",
        "24586                       id 19 education hs        1  education\n",
        "24587                          and educate the        1  education\n",
        "24588                  home educate our guests        1  education\n",
        "24589                         home educate our        1  education\n",
        "24590                      and education gs 03        1  education\n",
        "24591                      and education gs 04        1  education\n",
        "24592                       and education high        1  education\n",
        "24593           hill school education division        1  education\n",
        "24594    education and training qualifications        1  education\n",
        "\n",
        "[2944 rows x 3 columns]"
       ]
      }
     ],
     "prompt_number": 90
    },
    {
     "cell_type": "code",
     "collapsed": false,
     "input": [
      "stop_words=['education','educational','educating','educate','educates']"
     ],
     "language": "python",
     "metadata": {},
     "outputs": [],
     "prompt_number": 103
    },
    {
     "cell_type": "code",
     "collapsed": false,
     "input": [
      "num_clusters = 20\n",
      "predict = clustering.Clustering(skills_education,num_clusters,stop_words)"
     ],
     "language": "python",
     "metadata": {},
     "outputs": [
      {
       "output_type": "stream",
       "stream": "stdout",
       "text": [
        "Initialization complete\n",
        "Iteration  0, inertia 2321.000\n",
        "Iteration  1, inertia 2235.051\n",
        "Iteration  2, inertia 2215.370\n",
        "Iteration  3, inertia 2214.885\n",
        "Converged at iteration 3\n"
       ]
      }
     ],
     "prompt_number": 121
    },
    {
     "cell_type": "code",
     "collapsed": false,
     "input": [
      "skills_education['cluster_2'] = predict"
     ],
     "language": "python",
     "metadata": {},
     "outputs": [],
     "prompt_number": 122
    },
    {
     "cell_type": "code",
     "collapsed": false,
     "input": [
      "gg = skills_education.groupby('cluster_2')\n",
      "d = clustering.get_features(gg,predict)"
     ],
     "language": "python",
     "metadata": {},
     "outputs": [],
     "prompt_number": 123
    },
    {
     "cell_type": "raw",
     "metadata": {},
     "source": [
      "%reset"
     ]
    },
    {
     "cell_type": "code",
     "collapsed": false,
     "input": [
      "reload(clustering)"
     ],
     "language": "python",
     "metadata": {},
     "outputs": [
      {
       "metadata": {},
       "output_type": "pyout",
       "prompt_number": 124,
       "text": [
        "<module 'clustering' from 'clustering.pyc'>"
       ]
      }
     ],
     "prompt_number": 124
    },
    {
     "cell_type": "code",
     "collapsed": false,
     "input": [
      "new_tag={}\n",
      "for key in xrange(num_clusters):\n",
      "    words = clustering.BagofWords(d[key],stop_words)\n",
      "#print len(d[key])\n",
      "    #print words[0],words[1],words[2],words[3],words[4],len(d[key])\n",
      "    print len(d[key])\n",
      "    snetlist=Counter\n",
      "    for i in xrange(5):\n",
      "        #print wn.synsets(words[i][0])[0],words[i][0]\n",
      "        snetlist[wn.synsets(words[i][0])[0]]+=words[i][1]\n",
      "    print snetlist"
     ],
     "language": "python",
     "metadata": {},
     "outputs": []
    },
    {
     "cell_type": "code",
     "collapsed": false,
     "input": [
      "skills_education['New_Tag'] = 'Unknown'*len(skills_education)"
     ],
     "language": "python",
     "metadata": {},
     "outputs": [],
     "prompt_number": 129
    },
    {
     "cell_type": "code",
     "collapsed": false,
     "input": [
      "from nltk.corpus import wordnet as wn"
     ],
     "language": "python",
     "metadata": {},
     "outputs": [],
     "prompt_number": 115
    },
    {
     "cell_type": "code",
     "collapsed": false,
     "input": [
      "import nltk"
     ],
     "language": "python",
     "metadata": {},
     "outputs": [],
     "prompt_number": 112
    },
    {
     "cell_type": "code",
     "collapsed": false,
     "input": [
      "skills_education.sort('cluster_2',ascending=False).to_csv(\"./skills_education_cluster.tsv\", encoding='utf8', index=False, sep='\\t')"
     ],
     "language": "python",
     "metadata": {},
     "outputs": []
    },
    {
     "cell_type": "code",
     "collapsed": false,
     "input": [
      "nltk.download()"
     ],
     "language": "python",
     "metadata": {},
     "outputs": [
      {
       "output_type": "stream",
       "stream": "stdout",
       "text": [
        "NLTK Downloader\n",
        "---------------------------------------------------------------------------\n",
        "    d) Download   l) List    u) Update   c) Config   h) Help   q) Quit\n",
        "---------------------------------------------------------------------------\n"
       ]
      },
      {
       "name": "stdout",
       "output_type": "stream",
       "stream": "stdout",
       "text": [
        "Downloader> d\n"
       ]
      },
      {
       "output_type": "stream",
       "stream": "stdout",
       "text": [
        "\n",
        "Download which package (l=list; x=cancel)?\n"
       ]
      },
      {
       "name": "stdout",
       "output_type": "stream",
       "stream": "stdout",
       "text": [
        "  Identifier> l\n"
       ]
      },
      {
       "output_type": "stream",
       "stream": "stdout",
       "text": [
        "Packages:\n",
        "  [ ] large_grammars...... Large context-free and feature-based grammars\n",
        "                           for parser comparison\n",
        "  [ ] sample_grammars..... Sample Grammars\n",
        "  [ ] spanish_grammars.... Grammars for Spanish\n",
        "  [ ] tagsets............. Help on Tagsets\n",
        "  [ ] rslp................ RSLP Stemmer (Removedor de Sufixos da Lingua\n",
        "                           Portuguesa)\n",
        "  [ ] hmm_treebank_pos_tagger Treebank Part of Speech Tagger (HMM)\n",
        "  [ ] universal_tagset.... Mappings to the Universal Part-of-Speech Tagset\n",
        "  [ ] maxent_treebank_pos_tagger Treebank Part of Speech Tagger (Maximum entropy)\n",
        "  [ ] punkt............... Punkt Tokenizer Models\n",
        "  [ ] masc_tagged......... MASC Tagged Corpus\n",
        "  [ ] movie_reviews....... Sentiment Polarity Dataset Version 2.0\n",
        "  [ ] names............... Names Corpus, Version 1.3 (1994-03-29)\n",
        "  [ ] nombank.1.0......... NomBank Corpus 1.0\n",
        "  [ ] nps_chat............ NPS Chat\n",
        "  [ ] oanc_masc........... Open American National Corpus: Manually\n",
        "                           Annotated Sub-Corpus\n",
        "  [ ] omw................. Open Multilingual Wordnet\n",
        "  [ ] paradigms........... Paradigm Corpus\n"
       ]
      },
      {
       "name": "stdout",
       "output_type": "stream",
       "stream": "stdout",
       "text": [
        "Hit Enter to continue: \n"
       ]
      },
      {
       "output_type": "stream",
       "stream": "stdout",
       "text": [
        "  [ ] pe08................ Cross-Framework and Cross-Domain Parser\n",
        "                           Evaluation Shared Task\n",
        "  [ ] pil................. The Patient Information Leaflet (PIL) Corpus\n",
        "  [ ] pl196x.............. Polish language of the XX century sixties\n",
        "  [ ] ppattach............ Prepositional Phrase Attachment Corpus\n",
        "  [ ] problem_reports..... Problem Report Corpus\n",
        "  [ ] propbank............ Proposition Bank Corpus 1.0\n",
        "  [ ] ptb................. Penn Treebank\n",
        "  [ ] qc.................. Experimental Data for Question Classification\n",
        "  [ ] reuters............. The Reuters-21578 benchmark corpus, ApteMod\n",
        "                           version\n",
        "  [ ] rte................. PASCAL RTE Challenges 1, 2, and 3\n",
        "  [ ] semcor.............. SemCor 3.0\n",
        "  [ ] senseval............ SENSEVAL 2 Corpus: Sense Tagged Text\n",
        "  [ ] sentiwordnet........ SentiWordNet\n",
        "  [ ] shakespeare......... Shakespeare XML Corpus Sample\n",
        "  [ ] sinica_treebank..... Sinica Treebank Corpus Sample\n",
        "  [ ] smultron............ SMULTRON Corpus Sample\n",
        "  [ ] state_union......... C-Span State of the Union Address Corpus\n",
        "  [ ] stopwords........... Stopwords Corpus\n",
        "  [ ] swadesh............. Swadesh Wordlists\n"
       ]
      },
      {
       "name": "stdout",
       "output_type": "stream",
       "stream": "stdout",
       "text": [
        "Hit Enter to continue: \n"
       ]
      },
      {
       "output_type": "stream",
       "stream": "stdout",
       "text": [
        "  [ ] switchboard......... Switchboard Corpus Sample\n",
        "  [ ] timit............... TIMIT Corpus Sample\n",
        "  [ ] toolbox............. Toolbox Sample Files\n",
        "  [ ] treebank............ Penn Treebank Sample\n",
        "  [ ] udhr................ Universal Declaration of Human Rights Corpus\n",
        "  [ ] udhr2............... Universal Declaration of Human Rights Corpus\n",
        "                           (Unicode Version)\n",
        "  [ ] unicode_samples..... Unicode Samples\n",
        "  [ ] verbnet............. VerbNet Lexicon, Version 2.1\n",
        "  [ ] webtext............. Web Text Corpus\n",
        "  [ ] wordnet............. WordNet\n",
        "  [ ] wordnet_ic.......... WordNet-InfoContent\n",
        "  [ ] words............... Word Lists\n",
        "  [ ] ycoe................ York-Toronto-Helsinki Parsed Corpus of Old\n",
        "                           English Prose\n",
        "  [ ] basque_grammars..... Grammars for Basque\n",
        "  [ ] book_grammars....... Grammars from NLTK Book\n",
        "  [ ] maxent_ne_chunker... ACE Named Entity Chunker (Maximum entropy)\n",
        "  [ ] abc................. Australian Broadcasting Commission 2006\n",
        "  [ ] alpino.............. Alpino Dutch Treebank\n",
        "  [ ] biocreative_ppi..... BioCreAtIvE (Critical Assessment of Information\n",
        "                           Extraction Systems in Biology)\n"
       ]
      },
      {
       "name": "stdout",
       "output_type": "stream",
       "stream": "stdout",
       "text": [
        "Hit Enter to continue: \n"
       ]
      },
      {
       "output_type": "stream",
       "stream": "stdout",
       "text": [
        "  [ ] brown............... Brown Corpus\n",
        "  [ ] brown_tei........... Brown Corpus (TEI XML Version)\n",
        "  [ ] cess_cat............ CESS-CAT Treebank\n",
        "  [ ] cess_esp............ CESS-ESP Treebank\n",
        "  [ ] chat80.............. Chat-80 Data Files\n",
        "  [ ] city_database....... City Database\n",
        "  [ ] cmudict............. The Carnegie Mellon Pronouncing Dictionary (0.6)\n",
        "  [ ] comtrans............ ComTrans Corpus Sample\n",
        "  [ ] conll2000........... CONLL 2000 Chunking Corpus\n",
        "  [ ] conll2002........... CONLL 2002 Named Entity Recognition Corpus\n",
        "  [ ] conll2007........... Dependency Treebanks from CoNLL 2007 (Catalan\n",
        "                           and Basque Subset)\n",
        "  [ ] dependency_treebank. Dependency Parsed Treebank\n",
        "  [ ] europarl_raw........ Sample European Parliament Proceedings Parallel\n",
        "                           Corpus\n",
        "  [ ] floresta............ Portuguese Treebank\n",
        "  [ ] framenet_v15........ FrameNet 1.5\n",
        "  [ ] gazetteers.......... Gazeteer Lists\n",
        "  [ ] genesis............. Genesis Corpus\n",
        "  [ ] gutenberg........... Project Gutenberg Selections\n",
        "  [ ] ieer................ NIST IE-ER DATA SAMPLE\n"
       ]
      },
      {
       "name": "stdout",
       "output_type": "stream",
       "stream": "stdout",
       "text": [
        "Hit Enter to continue: \n"
       ]
      },
      {
       "output_type": "stream",
       "stream": "stdout",
       "text": [
        "  [ ] inaugural........... C-Span Inaugural Address Corpus\n",
        "  [ ] indian.............. Indian Language POS-Tagged Corpus\n",
        "  [ ] jeita............... JEITA Public Morphologically Tagged Corpus (in\n",
        "                           ChaSen format)\n",
        "  [ ] kimmo............... PC-KIMMO Data Files\n",
        "  [ ] knbc................ KNB Corpus (Annotated blog corpus)\n",
        "  [ ] langid.............. Language Id Corpus\n",
        "  [ ] lin_thesaurus....... Lin's Dependency Thesaurus\n",
        "  [ ] mac_morpho.......... MAC-MORPHO: Brazilian Portuguese news text with\n",
        "                           part-of-speech tags\n",
        "  [ ] machado............. Machado de Assis -- Obra Completa\n",
        "\n",
        "Collections:\n",
        "  [ ] all-corpora......... All the corpora\n",
        "  [ ] all................. All packages\n",
        "  [ ] book................ Everything used in the NLTK Book\n",
        "\n",
        "([*] marks installed packages)\n",
        "\n",
        "Download which package (l=list; x=cancel)?\n"
       ]
      },
      {
       "name": "stdout",
       "output_type": "stream",
       "stream": "stdout",
       "text": [
        "  Identifier> all\n"
       ]
      },
      {
       "output_type": "stream",
       "stream": "stdout",
       "text": [
        "    Downloading collection 'all'\n",
        "       | \n",
        "       | Downloading package 'abc' to /home/sdeb/nltk_data...\n",
        "       |   Unzipping corpora/abc.zip."
       ]
      },
      {
       "output_type": "stream",
       "stream": "stdout",
       "text": [
        "\n",
        "       | Downloading package 'alpino' to /home/sdeb/nltk_data...\n",
        "       |   Unzipping corpora/alpino.zip."
       ]
      },
      {
       "output_type": "stream",
       "stream": "stdout",
       "text": [
        "\n",
        "       | Downloading package 'biocreative_ppi' to\n",
        "       |     /home/sdeb/nltk_data..."
       ]
      },
      {
       "output_type": "stream",
       "stream": "stdout",
       "text": [
        "\n",
        "       |   Unzipping corpora/biocreative_ppi.zip."
       ]
      },
      {
       "output_type": "stream",
       "stream": "stdout",
       "text": [
        "\n",
        "       | Downloading package 'brown' to /home/sdeb/nltk_data...\n",
        "       |   Unzipping corpora/brown.zip."
       ]
      },
      {
       "output_type": "stream",
       "stream": "stdout",
       "text": [
        "\n",
        "       | Downloading package 'brown_tei' to /home/sdeb/nltk_data..."
       ]
      },
      {
       "output_type": "stream",
       "stream": "stdout",
       "text": [
        "\n",
        "       |   Unzipping corpora/brown_tei.zip."
       ]
      },
      {
       "output_type": "stream",
       "stream": "stdout",
       "text": [
        "\n",
        "       | Downloading package 'cess_cat' to /home/sdeb/nltk_data..."
       ]
      },
      {
       "output_type": "stream",
       "stream": "stdout",
       "text": [
        "\n",
        "       |   Unzipping corpora/cess_cat.zip."
       ]
      },
      {
       "output_type": "stream",
       "stream": "stdout",
       "text": [
        "\n",
        "       | Downloading package 'cess_esp' to /home/sdeb/nltk_data..."
       ]
      },
      {
       "output_type": "stream",
       "stream": "stdout",
       "text": [
        "\n",
        "       |   Unzipping corpora/cess_esp.zip."
       ]
      },
      {
       "output_type": "stream",
       "stream": "stdout",
       "text": [
        "\n",
        "       | Downloading package 'chat80' to /home/sdeb/nltk_data..."
       ]
      },
      {
       "output_type": "stream",
       "stream": "stdout",
       "text": [
        "\n",
        "       |   Unzipping corpora/chat80.zip."
       ]
      },
      {
       "output_type": "stream",
       "stream": "stdout",
       "text": [
        "\n",
        "       | Downloading package 'city_database' to\n",
        "       |     /home/sdeb/nltk_data...\n",
        "       |   Unzipping corpora/city_database.zip."
       ]
      },
      {
       "output_type": "stream",
       "stream": "stdout",
       "text": [
        "\n",
        "       | Downloading package 'cmudict' to /home/sdeb/nltk_data...\n",
        "       |   Unzipping corpora/cmudict.zip."
       ]
      },
      {
       "output_type": "stream",
       "stream": "stdout",
       "text": [
        "\n",
        "       | Downloading package 'comtrans' to /home/sdeb/nltk_data...\n",
        "       | Downloading package 'conll2000' to /home/sdeb/nltk_data..."
       ]
      },
      {
       "output_type": "stream",
       "stream": "stdout",
       "text": [
        "\n",
        "       |   Unzipping corpora/conll2000.zip."
       ]
      },
      {
       "output_type": "stream",
       "stream": "stdout",
       "text": [
        "\n",
        "       | Downloading package 'conll2002' to /home/sdeb/nltk_data...\n",
        "       |   Unzipping corpora/conll2002.zip."
       ]
      },
      {
       "output_type": "stream",
       "stream": "stdout",
       "text": [
        "\n",
        "       | Downloading package 'conll2007' to /home/sdeb/nltk_data..."
       ]
      },
      {
       "output_type": "stream",
       "stream": "stdout",
       "text": [
        "\n",
        "       | Downloading package 'dependency_treebank' to\n",
        "       |     /home/sdeb/nltk_data..."
       ]
      },
      {
       "output_type": "stream",
       "stream": "stdout",
       "text": [
        "\n",
        "       |   Unzipping corpora/dependency_treebank.zip."
       ]
      },
      {
       "output_type": "stream",
       "stream": "stdout",
       "text": [
        "\n",
        "       | Downloading package 'europarl_raw' to /home/sdeb/nltk_data...\n",
        "       |   Unzipping corpora/europarl_raw.zip."
       ]
      },
      {
       "output_type": "stream",
       "stream": "stdout",
       "text": [
        "\n",
        "       | Downloading package 'floresta' to /home/sdeb/nltk_data..."
       ]
      },
      {
       "output_type": "stream",
       "stream": "stdout",
       "text": [
        "\n",
        "       |   Unzipping corpora/floresta.zip."
       ]
      },
      {
       "output_type": "stream",
       "stream": "stdout",
       "text": [
        "\n",
        "       | Downloading package 'framenet_v15' to /home/sdeb/nltk_data..."
       ]
      },
      {
       "output_type": "stream",
       "stream": "stdout",
       "text": [
        "\n",
        "       |   Unzipping corpora/framenet_v15.zip."
       ]
      },
      {
       "output_type": "stream",
       "stream": "stdout",
       "text": [
        "\n",
        "       | Downloading package 'gazetteers' to /home/sdeb/nltk_data..."
       ]
      },
      {
       "output_type": "stream",
       "stream": "stdout",
       "text": [
        "\n",
        "       |   Unzipping corpora/gazetteers.zip."
       ]
      },
      {
       "output_type": "stream",
       "stream": "stdout",
       "text": [
        "\n",
        "       | Downloading package 'genesis' to /home/sdeb/nltk_data...\n",
        "       |   Unzipping corpora/genesis.zip."
       ]
      },
      {
       "output_type": "stream",
       "stream": "stdout",
       "text": [
        "\n",
        "       | Downloading package 'gutenberg' to /home/sdeb/nltk_data...\n",
        "       |   Unzipping corpora/gutenberg.zip."
       ]
      },
      {
       "output_type": "stream",
       "stream": "stdout",
       "text": [
        "\n",
        "       | Downloading package 'ieer' to /home/sdeb/nltk_data..."
       ]
      },
      {
       "output_type": "stream",
       "stream": "stdout",
       "text": [
        "\n",
        "       |   Unzipping corpora/ieer.zip."
       ]
      },
      {
       "output_type": "stream",
       "stream": "stdout",
       "text": [
        "\n",
        "       | Downloading package 'inaugural' to /home/sdeb/nltk_data...\n",
        "       |   Unzipping corpora/inaugural.zip."
       ]
      },
      {
       "output_type": "stream",
       "stream": "stdout",
       "text": [
        "\n",
        "       | Downloading package 'indian' to /home/sdeb/nltk_data...\n",
        "       |   Unzipping corpora/indian.zip."
       ]
      },
      {
       "output_type": "stream",
       "stream": "stdout",
       "text": [
        "\n",
        "       | Downloading package 'jeita' to /home/sdeb/nltk_data...\n",
        "       | Downloading package 'kimmo' to /home/sdeb/nltk_data..."
       ]
      },
      {
       "output_type": "stream",
       "stream": "stdout",
       "text": [
        "\n",
        "       |   Unzipping corpora/kimmo.zip."
       ]
      },
      {
       "output_type": "stream",
       "stream": "stdout",
       "text": [
        "\n",
        "       | Downloading package 'knbc' to /home/sdeb/nltk_data...\n",
        "       | Downloading package 'langid' to /home/sdeb/nltk_data..."
       ]
      },
      {
       "output_type": "stream",
       "stream": "stdout",
       "text": [
        "\n",
        "       | Downloading package 'lin_thesaurus' to\n",
        "       |     /home/sdeb/nltk_data..."
       ]
      },
      {
       "output_type": "stream",
       "stream": "stdout",
       "text": [
        "\n",
        "       |   Unzipping corpora/lin_thesaurus.zip."
       ]
      },
      {
       "output_type": "stream",
       "stream": "stdout",
       "text": [
        "\n",
        "       | Downloading package 'mac_morpho' to /home/sdeb/nltk_data..."
       ]
      },
      {
       "output_type": "stream",
       "stream": "stdout",
       "text": [
        "\n",
        "       |   Unzipping corpora/mac_morpho.zip."
       ]
      },
      {
       "output_type": "stream",
       "stream": "stdout",
       "text": [
        "\n",
        "       | Downloading package 'machado' to /home/sdeb/nltk_data..."
       ]
      },
      {
       "output_type": "stream",
       "stream": "stdout",
       "text": [
        "\n",
        "       | Downloading package 'masc_tagged' to /home/sdeb/nltk_data..."
       ]
      },
      {
       "output_type": "stream",
       "stream": "stdout",
       "text": [
        "\n",
        "       | Downloading package 'movie_reviews' to\n",
        "       |     /home/sdeb/nltk_data..."
       ]
      },
      {
       "output_type": "stream",
       "stream": "stdout",
       "text": [
        "\n",
        "       |   Unzipping corpora/movie_reviews.zip."
       ]
      },
      {
       "output_type": "stream",
       "stream": "stdout",
       "text": [
        "\n",
        "       | Downloading package 'names' to /home/sdeb/nltk_data..."
       ]
      },
      {
       "output_type": "stream",
       "stream": "stdout",
       "text": [
        "\n",
        "       |   Unzipping corpora/names.zip."
       ]
      },
      {
       "output_type": "stream",
       "stream": "stdout",
       "text": [
        "\n",
        "       | Downloading package 'nombank.1.0' to /home/sdeb/nltk_data...\n",
        "       | Downloading package 'nps_chat' to /home/sdeb/nltk_data..."
       ]
      },
      {
       "output_type": "stream",
       "stream": "stdout",
       "text": [
        "\n",
        "       |   Unzipping corpora/nps_chat.zip."
       ]
      },
      {
       "output_type": "stream",
       "stream": "stdout",
       "text": [
        "\n",
        "       | Downloading package 'oanc_masc' to /home/sdeb/nltk_data...\n",
        "       | Downloading package 'omw' to /home/sdeb/nltk_data..."
       ]
      },
      {
       "output_type": "stream",
       "stream": "stdout",
       "text": [
        "\n",
        "       |   Unzipping corpora/omw.zip."
       ]
      },
      {
       "output_type": "stream",
       "stream": "stdout",
       "text": [
        "\n",
        "       | Downloading package 'paradigms' to /home/sdeb/nltk_data..."
       ]
      },
      {
       "output_type": "stream",
       "stream": "stdout",
       "text": [
        "\n",
        "       |   Unzipping corpora/paradigms.zip."
       ]
      },
      {
       "output_type": "stream",
       "stream": "stdout",
       "text": [
        "\n",
        "       | Downloading package 'pil' to /home/sdeb/nltk_data...\n",
        "       |   Unzipping corpora/pil.zip."
       ]
      },
      {
       "output_type": "stream",
       "stream": "stdout",
       "text": [
        "\n",
        "       | Downloading package 'pl196x' to /home/sdeb/nltk_data..."
       ]
      },
      {
       "output_type": "stream",
       "stream": "stdout",
       "text": [
        "\n",
        "       |   Unzipping corpora/pl196x.zip."
       ]
      },
      {
       "output_type": "stream",
       "stream": "stdout",
       "text": [
        "\n",
        "       | Downloading package 'ppattach' to /home/sdeb/nltk_data..."
       ]
      },
      {
       "output_type": "stream",
       "stream": "stdout",
       "text": [
        "\n",
        "       |   Unzipping corpora/ppattach.zip."
       ]
      },
      {
       "output_type": "stream",
       "stream": "stdout",
       "text": [
        "\n",
        "       | Downloading package 'problem_reports' to\n",
        "       |     /home/sdeb/nltk_data...\n",
        "       |   Unzipping corpora/problem_reports.zip."
       ]
      },
      {
       "output_type": "stream",
       "stream": "stdout",
       "text": [
        "\n",
        "       | Downloading package 'propbank' to /home/sdeb/nltk_data...\n",
        "       | Downloading package 'ptb' to /home/sdeb/nltk_data..."
       ]
      },
      {
       "output_type": "stream",
       "stream": "stdout",
       "text": [
        "\n",
        "       |   Unzipping corpora/ptb.zip."
       ]
      },
      {
       "output_type": "stream",
       "stream": "stdout",
       "text": [
        "\n",
        "       | Downloading package 'oanc_masc' to /home/sdeb/nltk_data...\n",
        "       |   Package oanc_masc is already up-to-date!\n",
        "       | Downloading package 'qc' to /home/sdeb/nltk_data...\n",
        "       |   Unzipping corpora/qc.zip."
       ]
      },
      {
       "output_type": "stream",
       "stream": "stdout",
       "text": [
        "\n",
        "       | Downloading package 'reuters' to /home/sdeb/nltk_data...\n",
        "       |   Unzipping corpora/reuters.zip."
       ]
      },
      {
       "output_type": "stream",
       "stream": "stdout",
       "text": [
        "\n",
        "       | Downloading package 'rte' to /home/sdeb/nltk_data..."
       ]
      },
      {
       "output_type": "stream",
       "stream": "stdout",
       "text": [
        "\n",
        "       |   Unzipping corpora/rte.zip."
       ]
      },
      {
       "output_type": "stream",
       "stream": "stdout",
       "text": [
        "\n",
        "       | Downloading package 'semcor' to /home/sdeb/nltk_data...\n",
        "       | Downloading package 'senseval' to /home/sdeb/nltk_data..."
       ]
      },
      {
       "output_type": "stream",
       "stream": "stdout",
       "text": [
        "\n",
        "       |   Unzipping corpora/senseval.zip."
       ]
      },
      {
       "output_type": "stream",
       "stream": "stdout",
       "text": [
        "\n",
        "       | Downloading package 'sentiwordnet' to /home/sdeb/nltk_data..."
       ]
      },
      {
       "output_type": "stream",
       "stream": "stdout",
       "text": [
        "\n",
        "       |   Unzipping corpora/sentiwordnet.zip."
       ]
      },
      {
       "output_type": "stream",
       "stream": "stdout",
       "text": [
        "\n",
        "       | Downloading package 'shakespeare' to /home/sdeb/nltk_data..."
       ]
      },
      {
       "output_type": "stream",
       "stream": "stdout",
       "text": [
        "\n",
        "       |   Unzipping corpora/shakespeare.zip."
       ]
      },
      {
       "output_type": "stream",
       "stream": "stdout",
       "text": [
        "\n",
        "       | Downloading package 'sinica_treebank' to\n",
        "       |     /home/sdeb/nltk_data...\n",
        "       |   Unzipping corpora/sinica_treebank.zip."
       ]
      },
      {
       "output_type": "stream",
       "stream": "stdout",
       "text": [
        "\n",
        "       | Downloading package 'smultron' to /home/sdeb/nltk_data...\n",
        "       |   Unzipping corpora/smultron.zip."
       ]
      },
      {
       "output_type": "stream",
       "stream": "stdout",
       "text": [
        "\n",
        "       | Downloading package 'state_union' to /home/sdeb/nltk_data...\n",
        "       |   Unzipping corpora/state_union.zip."
       ]
      },
      {
       "output_type": "stream",
       "stream": "stdout",
       "text": [
        "\n",
        "       | Downloading package 'stopwords' to /home/sdeb/nltk_data...\n",
        "       |   Unzipping corpora/stopwords.zip."
       ]
      },
      {
       "output_type": "stream",
       "stream": "stdout",
       "text": [
        "\n",
        "       | Downloading package 'swadesh' to /home/sdeb/nltk_data...\n",
        "       |   Unzipping corpora/swadesh.zip."
       ]
      },
      {
       "output_type": "stream",
       "stream": "stdout",
       "text": [
        "\n",
        "       | Downloading package 'switchboard' to /home/sdeb/nltk_data...\n",
        "       |   Unzipping corpora/switchboard.zip."
       ]
      },
      {
       "output_type": "stream",
       "stream": "stdout",
       "text": [
        "\n",
        "       | Downloading package 'timit' to /home/sdeb/nltk_data...\n",
        "       |   Unzipping corpora/timit.zip."
       ]
      },
      {
       "output_type": "stream",
       "stream": "stdout",
       "text": [
        "\n",
        "       | Downloading package 'toolbox' to /home/sdeb/nltk_data..."
       ]
      },
      {
       "output_type": "stream",
       "stream": "stdout",
       "text": [
        "\n",
        "       |   Unzipping corpora/toolbox.zip."
       ]
      },
      {
       "output_type": "stream",
       "stream": "stdout",
       "text": [
        "\n",
        "       | Downloading package 'treebank' to /home/sdeb/nltk_data...\n",
        "       |   Unzipping corpora/treebank.zip."
       ]
      },
      {
       "output_type": "stream",
       "stream": "stdout",
       "text": [
        "\n",
        "       | Downloading package 'udhr' to /home/sdeb/nltk_data..."
       ]
      },
      {
       "output_type": "stream",
       "stream": "stdout",
       "text": [
        "\n",
        "       |   Unzipping corpora/udhr.zip."
       ]
      },
      {
       "output_type": "stream",
       "stream": "stdout",
       "text": [
        "\n",
        "       | Downloading package 'udhr2' to /home/sdeb/nltk_data..."
       ]
      },
      {
       "output_type": "stream",
       "stream": "stdout",
       "text": [
        "\n",
        "       |   Unzipping corpora/udhr2.zip."
       ]
      },
      {
       "output_type": "stream",
       "stream": "stdout",
       "text": [
        "\n",
        "       | Downloading package 'unicode_samples' to\n",
        "       |     /home/sdeb/nltk_data..."
       ]
      },
      {
       "output_type": "stream",
       "stream": "stdout",
       "text": [
        "\n",
        "       |   Unzipping corpora/unicode_samples.zip."
       ]
      },
      {
       "output_type": "stream",
       "stream": "stdout",
       "text": [
        "\n",
        "       | Downloading package 'verbnet' to /home/sdeb/nltk_data...\n",
        "       |   Unzipping corpora/verbnet.zip."
       ]
      },
      {
       "output_type": "stream",
       "stream": "stdout",
       "text": [
        "\n",
        "       | Downloading package 'webtext' to /home/sdeb/nltk_data...\n",
        "       |   Unzipping corpora/webtext.zip."
       ]
      },
      {
       "output_type": "stream",
       "stream": "stdout",
       "text": [
        "\n",
        "       | Downloading package 'wordnet' to /home/sdeb/nltk_data...\n",
        "       |   Unzipping corpora/wordnet.zip."
       ]
      },
      {
       "output_type": "stream",
       "stream": "stdout",
       "text": [
        "\n",
        "       | Downloading package 'wordnet_ic' to /home/sdeb/nltk_data..."
       ]
      },
      {
       "output_type": "stream",
       "stream": "stdout",
       "text": [
        "\n",
        "       |   Unzipping corpora/wordnet_ic.zip."
       ]
      },
      {
       "output_type": "stream",
       "stream": "stdout",
       "text": [
        "\n",
        "       | Downloading package 'words' to /home/sdeb/nltk_data..."
       ]
      },
      {
       "output_type": "stream",
       "stream": "stdout",
       "text": [
        "\n",
        "       |   Unzipping corpora/words.zip."
       ]
      },
      {
       "output_type": "stream",
       "stream": "stdout",
       "text": [
        "\n",
        "       | Downloading package 'ycoe' to /home/sdeb/nltk_data...\n",
        "       |   Unzipping corpora/ycoe.zip."
       ]
      },
      {
       "output_type": "stream",
       "stream": "stdout",
       "text": [
        "\n",
        "       | Downloading package 'rslp' to /home/sdeb/nltk_data...\n",
        "       |   Unzipping stemmers/rslp.zip."
       ]
      },
      {
       "output_type": "stream",
       "stream": "stdout",
       "text": [
        "\n",
        "       | Downloading package 'hmm_treebank_pos_tagger' to\n",
        "       |     /home/sdeb/nltk_data...\n",
        "       |   Unzipping taggers/hmm_treebank_pos_tagger.zip."
       ]
      },
      {
       "output_type": "stream",
       "stream": "stdout",
       "text": [
        "\n",
        "       | Downloading package 'maxent_treebank_pos_tagger' to\n",
        "       |     /home/sdeb/nltk_data...\n",
        "       |   Unzipping taggers/maxent_treebank_pos_tagger.zip."
       ]
      },
      {
       "output_type": "stream",
       "stream": "stdout",
       "text": [
        "\n",
        "       | Downloading package 'universal_tagset' to\n",
        "       |     /home/sdeb/nltk_data..."
       ]
      },
      {
       "output_type": "stream",
       "stream": "stdout",
       "text": [
        "\n",
        "       |   Unzipping taggers/universal_tagset.zip."
       ]
      },
      {
       "output_type": "stream",
       "stream": "stdout",
       "text": [
        "\n",
        "       | Downloading package 'maxent_ne_chunker' to\n",
        "       |     /home/sdeb/nltk_data...\n",
        "       |   Unzipping chunkers/maxent_ne_chunker.zip."
       ]
      },
      {
       "output_type": "stream",
       "stream": "stdout",
       "text": [
        "\n",
        "       | Downloading package 'punkt' to /home/sdeb/nltk_data..."
       ]
      },
      {
       "output_type": "stream",
       "stream": "stdout",
       "text": [
        "\n",
        "       |   Unzipping tokenizers/punkt.zip."
       ]
      },
      {
       "output_type": "stream",
       "stream": "stdout",
       "text": [
        "\n",
        "       | Downloading package 'book_grammars' to\n",
        "       |     /home/sdeb/nltk_data..."
       ]
      },
      {
       "output_type": "stream",
       "stream": "stdout",
       "text": [
        "\n",
        "       |   Unzipping grammars/book_grammars.zip."
       ]
      },
      {
       "output_type": "stream",
       "stream": "stdout",
       "text": [
        "\n",
        "       | Downloading package 'sample_grammars' to\n",
        "       |     /home/sdeb/nltk_data...\n",
        "       |   Unzipping grammars/sample_grammars.zip."
       ]
      },
      {
       "output_type": "stream",
       "stream": "stdout",
       "text": [
        "\n",
        "       | Downloading package 'spanish_grammars' to\n",
        "       |     /home/sdeb/nltk_data...\n",
        "       |   Unzipping grammars/spanish_grammars.zip."
       ]
      },
      {
       "output_type": "stream",
       "stream": "stdout",
       "text": [
        "\n",
        "       | Downloading package 'basque_grammars' to\n",
        "       |     /home/sdeb/nltk_data...\n",
        "       |   Unzipping grammars/basque_grammars.zip."
       ]
      },
      {
       "output_type": "stream",
       "stream": "stdout",
       "text": [
        "\n",
        "       | Downloading package 'large_grammars' to\n",
        "       |     /home/sdeb/nltk_data...\n",
        "       |   Unzipping grammars/large_grammars.zip."
       ]
      },
      {
       "output_type": "stream",
       "stream": "stdout",
       "text": [
        "\n",
        "       | Downloading package 'tagsets' to /home/sdeb/nltk_data...\n",
        "       | "
       ]
      },
      {
       "output_type": "stream",
       "stream": "stdout",
       "text": [
        "\n",
        "     Done downloading collection 'all'\n",
        "\n",
        "---------------------------------------------------------------------------\n",
        "    d) Download   l) List    u) Update   c) Config   h) Help   q) Quit\n",
        "---------------------------------------------------------------------------\n"
       ]
      },
      {
       "name": "stdout",
       "output_type": "stream",
       "stream": "stdout",
       "text": [
        "Downloader> q\n"
       ]
      },
      {
       "metadata": {},
       "output_type": "pyout",
       "prompt_number": 114,
       "text": [
        "True"
       ]
      }
     ],
     "prompt_number": 114
    },
    {
     "cell_type": "code",
     "collapsed": false,
     "input": [
      "wn.synsets('education')"
     ],
     "language": "python",
     "metadata": {},
     "outputs": [
      {
       "metadata": {},
       "output_type": "pyout",
       "prompt_number": 120,
       "text": [
        "[Synset('education.n.01'),\n",
        " Synset('education.n.02'),\n",
        " Synset('education.n.03'),\n",
        " Synset('education.n.04'),\n",
        " Synset('education.n.05'),\n",
        " Synset('department_of_education.n.01')]"
       ]
      }
     ],
     "prompt_number": 120
    },
    {
     "cell_type": "code",
     "collapsed": false,
     "input": [
      "d[2]"
     ],
     "language": "python",
     "metadata": {},
     "outputs": [
      {
       "metadata": {},
       "output_type": "pyout",
       "prompt_number": 128,
       "text": [
        "['education to our customers',\n",
        " 'capabilities educating customers whenever',\n",
        " 'pnc capabilities educating customers',\n",
        " 'educating customers whenever possible',\n",
        " 'new customers education',\n",
        " 'customers education training',\n",
        " 'educating customers whenever',\n",
        " 'capabilities educating customers',\n",
        " 'educating and energizing customers',\n",
        " 'customer educating and',\n",
        " 'of customer educating',\n",
        " 'customer educating and energizing',\n",
        " 'front of customer educating',\n",
        " 'customers education training supports',\n",
        " 'educates our customers',\n",
        " 'new customers education training',\n",
        " 'and new customers education',\n",
        " 'educates our customers on',\n",
        " 'educators and pharmacy customers',\n",
        " 'customers education',\n",
        " 'educate and inform customer',\n",
        " 'and educate customers on',\n",
        " 'additional customer education as',\n",
        " 'educating customers on the',\n",
        " 'educate customers and assist',\n",
        " 'educate customers on the',\n",
        " 'customer selection qualifications education',\n",
        " 'customers feel welcome education',\n",
        " 'barriers educate customers and',\n",
        " 'barriers educate customers',\n",
        " 'resources to educate customers',\n",
        " 'provide additional customer education',\n",
        " 'every customer interaction education',\n",
        " 'to educate customers and',\n",
        " 'customer education as needed',\n",
        " 'educates the customer on',\n",
        " 'educate customers track',\n",
        " 'educate customers respond',\n",
        " 'educate customers on options',\n",
        " 'educate customers and store',\n",
        " 'educate customers about officemax',\n",
        " 'educate customers about',\n",
        " 'educates and assists customers',\n",
        " 'educating and engaging customers',\n",
        " 'educate and enroll customers',\n",
        " 'educate customers respond to',\n",
        " 'desk while educating customers',\n",
        " 'educate the customer up',\n",
        " 'educating customers on rogers',\n",
        " 'educating and outfitting customers',\n",
        " 'educate the customer',\n",
        " 'educates the customer',\n",
        " 'knowledge to educate customers',\n",
        " 'consultant will educate customers',\n",
        " 'educate customers and',\n",
        " 'educating customers on',\n",
        " 'and educating customers',\n",
        " 'educating customers any',\n",
        " 'to educate customers',\n",
        " 'additional customer education',\n",
        " 'and educate customers',\n",
        " 'customer interaction education',\n",
        " 'customer education as',\n",
        " 'customer interaction required education',\n",
        " 'and educating customers any',\n",
        " 'educating customers any mountain',\n",
        " 'products and educating customers',\n",
        " 'customer education',\n",
        " 'of customer educating and',\n",
        " 'accountability in educating customers',\n",
        " 'while educating customers on',\n",
        " 'while educating customers',\n",
        " 'will educate customers',\n",
        " 'will educate customers on',\n",
        " 'to educate customers about',\n",
        " 'products to educate customers',\n",
        " 'potential barriers educate customers',\n",
        " 'to educate customers track',\n",
        " 'demonstrate and educate customers',\n",
        " 'recipes educate customers respond',\n",
        " 'recipes educate customers',\n",
        " 'questions educate our customers',\n",
        " 'educate our customers on',\n",
        " 'assist and educate customers',\n",
        " 'educate customers track store',\n",
        " 'blender recipes educate customers',\n",
        " 'educate our customers',\n",
        " 'engaging manner educate customers',\n",
        " 'educate customers on selecting',\n",
        " 'manner educate customers',\n",
        " 'customer educating',\n",
        " 'manner educate customers on',\n",
        " 'educating customers',\n",
        " 'by educating customers',\n",
        " 'educate and engage customers',\n",
        " 'educating customers about office',\n",
        " 'educate customers',\n",
        " 'educate customers on',\n",
        " 'by educating customers about',\n",
        " 'educating customers about',\n",
        " 'in educating customers on',\n",
        " 'in educating customers',\n",
        " 'and educates the customer',\n",
        " 'and educate the customer']"
       ]
      }
     ],
     "prompt_number": 128
    },
    {
     "cell_type": "code",
     "collapsed": false,
     "input": [],
     "language": "python",
     "metadata": {},
     "outputs": []
    }
   ],
   "metadata": {}
  }
 ]
}